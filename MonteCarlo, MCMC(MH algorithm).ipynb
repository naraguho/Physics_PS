{
 "cells": [
  {
   "cell_type": "markdown",
   "id": "5823a7b4",
   "metadata": {},
   "source": [
    "Monte Carlo method to get the value of pi"
   ]
  },
  {
   "cell_type": "code",
   "execution_count": 153,
   "id": "a2eb29b0",
   "metadata": {},
   "outputs": [
    {
     "name": "stdout",
     "output_type": "stream",
     "text": [
      "3.1512 3.141592653589793\n"
     ]
    }
   ],
   "source": [
    "import numpy as np\n",
    "from matplotlib import pyplot as plt\n",
    "\n",
    "N = 10000\n",
    "random_number = np.random.random([N, 2])\n",
    "L2_norm = np.sum(random_number ** 2, axis = 1) #Note the difference between axis 0 and 1\n",
    "\n",
    "judge = L2_norm <= 1.0\n",
    "pi = np.sum(judge)*4/N\n",
    "\n",
    "print(pi, np.pi)"
   ]
  },
  {
   "cell_type": "markdown",
   "id": "08dd0582",
   "metadata": {},
   "source": [
    "Monte Carlo integration(rough version)"
   ]
  },
  {
   "cell_type": "code",
   "execution_count": 154,
   "id": "e9a6dd07",
   "metadata": {},
   "outputs": [
    {
     "data": {
      "text/plain": [
       "42.00465051005174"
      ]
     },
     "execution_count": 154,
     "metadata": {},
     "output_type": "execute_result"
    }
   ],
   "source": [
    "def f(x):\n",
    "    return x**2 + 1\n",
    "\n",
    "N = 10000\n",
    "a = 2\n",
    "b = 5\n",
    "interval = np.linspace(a, b, 10000)\n",
    "\n",
    "def integral(interval, N):\n",
    "    result = 0\n",
    "    delta = interval[1] - interval[0]\n",
    "    for i in range(N):\n",
    "        result += f(interval[i]) * delta\n",
    "    return result\n",
    "\n",
    "integral(interval, N)"
   ]
  },
  {
   "cell_type": "code",
   "execution_count": 155,
   "id": "e2ca8015",
   "metadata": {},
   "outputs": [
    {
     "data": {
      "text/plain": [
       "42.10501187172323"
      ]
     },
     "execution_count": 155,
     "metadata": {},
     "output_type": "execute_result"
    }
   ],
   "source": [
    "x = np.random.random([N,1])\n",
    "interval = a + (b-a)*x\n",
    "def MC_integral(interval, N, a, b):\n",
    "    return np.sum(f(interval) * (b-a))/N\n",
    "\n",
    "MC_integral(interval, N, a, b)\n"
   ]
  },
  {
   "cell_type": "markdown",
   "id": "2d2411c6",
   "metadata": {},
   "source": [
    "MCMC(Metropolis-Hastings algorithm)"
   ]
  },
  {
   "cell_type": "code",
   "execution_count": 156,
   "id": "5cb9e358",
   "metadata": {},
   "outputs": [
    {
     "data": {
      "text/plain": [
       "[<matplotlib.lines.Line2D at 0x7fe12bbd4c50>]"
      ]
     },
     "execution_count": 156,
     "metadata": {},
     "output_type": "execute_result"
    },
    {
     "data": {
      "image/png": "[encoded data removed]",
      "text/plain": [
       "<Figure size 432x288 with 1 Axes>"
      ]
     },
     "metadata": {
      "needs_background": "light"
     },
     "output_type": "display_data"
    }
   ],
   "source": [
    "def p(x):\n",
    "    return 0.3 * np.exp(-0.2*x**2) + 0.7*np.exp(-0.2*(x-10)**2)\n",
    "    #return np.exp(-x**2) \n",
    "interval = np.linspace(-10, 20, N)\n",
    "\n",
    "plt.plot(interval, p(interval))"
   ]
  },
  {
   "cell_type": "code",
   "execution_count": 157,
   "id": "52ae8c85",
   "metadata": {},
   "outputs": [
    {
     "data": {
      "text/plain": [
       "(array([  2.,   3.,   2.,  11.,  11.,  18.,  17.,  44.,  45.,  57.,  69.,\n",
       "         96., 123., 175., 247., 346., 400., 451., 517., 489., 400., 335.,\n",
       "        284., 396., 548., 779., 733., 691., 554., 435., 340., 312., 250.,\n",
       "        160., 138., 102.,  99.,  97.,  67.,  25.,  31.,  30.,  22.,  11.,\n",
       "          7.,  11.,   6.,   5.,   6.,   3.]),\n",
       " array([-23.38128549, -22.11530222, -20.84931896, -19.5833357 ,\n",
       "        -18.31735243, -17.05136917, -15.78538591, -14.51940264,\n",
       "        -13.25341938, -11.98743612, -10.72145286,  -9.45546959,\n",
       "         -8.18948633,  -6.92350307,  -5.6575198 ,  -4.39153654,\n",
       "         -3.12555328,  -1.85957001,  -0.59358675,   0.67239651,\n",
       "          1.93837978,   3.20436304,   4.4703463 ,   5.73632957,\n",
       "          7.00231283,   8.26829609,   9.53427935,  10.80026262,\n",
       "         12.06624588,  13.33222914,  14.59821241,  15.86419567,\n",
       "         17.13017893,  18.3961622 ,  19.66214546,  20.92812872,\n",
       "         22.19411199,  23.46009525,  24.72607851,  25.99206178,\n",
       "         27.25804504,  28.5240283 ,  29.79001157,  31.05599483,\n",
       "         32.32197809,  33.58796135,  34.85394462,  36.11992788,\n",
       "         37.38591114,  38.65189441,  39.91787767]),\n",
       " <BarContainer object of 50 artists>)"
      ]
     },
     "execution_count": 157,
     "metadata": {},
     "output_type": "execute_result"
    },
    {
     "data": {
      "image/png": "[encoded data removed]",
      "text/plain": [
       "<Figure size 432x288 with 1 Axes>"
      ]
     },
     "metadata": {
      "needs_background": "light"
     },
     "output_type": "display_data"
    }
   ],
   "source": [
    "x = [0]\n",
    "sigma = 2\n",
    "N = 10000\n",
    "\n",
    "def gaussian_normal(x, mean, sigma):\n",
    "    return 1/(sigma * np.sqrt(2*np.pi)) * np.exp(-1/2 * ((x-mean)/sigma)**2)\n",
    "\n",
    "def MCMC_Metropolis_Hastings_method(p, N):\n",
    "    for i in range(N-1):\n",
    "        u = np.random.normal(0, 1)\n",
    "        x_new = np.random.normal(x[i], sigma)\n",
    "        A = p(x_new) * gaussian_normal(x[i], x_new, sigma)\n",
    "        B = p(x[i]) * gaussian_normal(x_new, x[i], sigma)\n",
    "        Amp = min([1, A/B])\n",
    "        if u < Amp:\n",
    "            x.append(x_new)\n",
    "        else:\n",
    "            x.append(x[i])\n",
    "            \n",
    "    return plt.hist(x, bins=50)\n",
    "    \n",
    "        \n",
    "MCMC_Metropolis_Hastings_method(p, N)"
   ]
  },
  {
   "cell_type": "code",
   "execution_count": 158,
   "id": "2ba572c5",
   "metadata": {},
   "outputs": [
    {
     "name": "stderr",
     "output_type": "stream",
     "text": [
      "/Users/jangho/opt/anaconda3/envs/BNN/lib/python3.7/site-packages/seaborn/distributions.py:2619: FutureWarning: `distplot` is a deprecated function and will be removed in a future version. Please adapt your code to use either `displot` (a figure-level function with similar flexibility) or `histplot` (an axes-level function for histograms).\n",
      "  warnings.warn(msg, FutureWarning)\n",
      "/Users/jangho/opt/anaconda3/envs/BNN/lib/python3.7/site-packages/seaborn/distributions.py:2103: FutureWarning: The `axis` variable is no longer used and will be removed. Instead, assign variables directly to `x` or `y`.\n",
      "  warnings.warn(msg, FutureWarning)\n"
     ]
    },
    {
     "data": {
      "image/png": "[encoded data removed]",
      "text/plain": [
       "<Figure size 432x288 with 1 Axes>"
      ]
     },
     "metadata": {
      "needs_background": "light"
     },
     "output_type": "display_data"
    }
   ],
   "source": [
    "import seaborn as sns\n",
    "sns.distplot(x, rug=True)\n",
    "plt.show()"
   ]
  }
 ],
 "metadata": {
  "interpreter": {
   "hash": "01815654e18b5ef514b021d80bd5e3f1534d477da12fdc06e9a959b4ca6818b0"
  },
  "kernelspec": {
   "display_name": "Python 3 (ipykernel)",
   "language": "python",
   "name": "python3"
  },
  "language_info": {
   "codemirror_mode": {
    "name": "ipython",
    "version": 3
   },
   "file_extension": ".py",
   "mimetype": "text/x-python",
   "name": "python",
   "nbconvert_exporter": "python",
   "pygments_lexer": "ipython3",
   "version": "3.7.13"
  }
 },
 "nbformat": 4,
 "nbformat_minor": 5
}
